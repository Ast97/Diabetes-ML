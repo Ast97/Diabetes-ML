{
 "cells": [
  {
   "cell_type": "markdown",
   "metadata": {},
   "source": [
    "Data Analysis of diabetes dataset for women (\"Pima Indians Diabetes\" dataset) and usage of Machine Learning to process and transform \"Pima Indians Diabetes\" data to create a prediction model. This model will predict which people are likely to develop diabetes."
   ]
  },
  {
   "cell_type": "markdown",
   "metadata": {},
   "source": [
    "# Import Libraries"
   ]
  },
  {
   "cell_type": "code",
   "execution_count": 1,
   "metadata": {},
   "outputs": [],
   "source": [
    "import numpy as np\n",
    "import pandas as pd\n",
    "import matplotlib.pyplot as plt\n",
    "%matplotlib inline\n",
    "import seaborn as sns"
   ]
  },
  {
   "cell_type": "markdown",
   "metadata": {},
   "source": [
    "# Data Exploration: Load and Review Dataset"
   ]
  },
  {
   "cell_type": "code",
   "execution_count": 2,
   "metadata": {},
   "outputs": [],
   "source": [
    "diabetes = pd.read_csv('pima_diabetes.csv')"
   ]
  },
  {
   "cell_type": "code",
   "execution_count": 3,
   "metadata": {},
   "outputs": [
    {
     "name": "stdout",
     "output_type": "stream",
     "text": [
      "Dimensions of the Diabetes dataset: (768, 9)\n"
     ]
    }
   ],
   "source": [
    "print(\"Dimensions of the Diabetes dataset: {}\".format(diabetes.shape)) \n",
    "# Check number of columns (attributes) and rows (instances) in the data frame"
   ]
  },
  {
   "cell_type": "code",
   "execution_count": 4,
   "metadata": {},
   "outputs": [
    {
     "data": {
      "text/html": [
       "<div>\n",
       "<style scoped>\n",
       "    .dataframe tbody tr th:only-of-type {\n",
       "        vertical-align: middle;\n",
       "    }\n",
       "\n",
       "    .dataframe tbody tr th {\n",
       "        vertical-align: top;\n",
       "    }\n",
       "\n",
       "    .dataframe thead th {\n",
       "        text-align: right;\n",
       "    }\n",
       "</style>\n",
       "<table border=\"1\" class=\"dataframe\">\n",
       "  <thead>\n",
       "    <tr style=\"text-align: right;\">\n",
       "      <th></th>\n",
       "      <th>Pregnancies</th>\n",
       "      <th>Glucose</th>\n",
       "      <th>BloodPressure</th>\n",
       "      <th>SkinThickness</th>\n",
       "      <th>Insulin</th>\n",
       "      <th>BMI</th>\n",
       "      <th>DiabetesPedigreeFunction</th>\n",
       "      <th>Age</th>\n",
       "      <th>Outcome</th>\n",
       "    </tr>\n",
       "  </thead>\n",
       "  <tbody>\n",
       "    <tr>\n",
       "      <th>0</th>\n",
       "      <td>6</td>\n",
       "      <td>148</td>\n",
       "      <td>72</td>\n",
       "      <td>35</td>\n",
       "      <td>0</td>\n",
       "      <td>33.6</td>\n",
       "      <td>0.627</td>\n",
       "      <td>50</td>\n",
       "      <td>1</td>\n",
       "    </tr>\n",
       "    <tr>\n",
       "      <th>1</th>\n",
       "      <td>1</td>\n",
       "      <td>85</td>\n",
       "      <td>66</td>\n",
       "      <td>29</td>\n",
       "      <td>0</td>\n",
       "      <td>26.6</td>\n",
       "      <td>0.351</td>\n",
       "      <td>31</td>\n",
       "      <td>0</td>\n",
       "    </tr>\n",
       "    <tr>\n",
       "      <th>2</th>\n",
       "      <td>8</td>\n",
       "      <td>183</td>\n",
       "      <td>64</td>\n",
       "      <td>0</td>\n",
       "      <td>0</td>\n",
       "      <td>23.3</td>\n",
       "      <td>0.672</td>\n",
       "      <td>32</td>\n",
       "      <td>1</td>\n",
       "    </tr>\n",
       "    <tr>\n",
       "      <th>3</th>\n",
       "      <td>1</td>\n",
       "      <td>89</td>\n",
       "      <td>66</td>\n",
       "      <td>23</td>\n",
       "      <td>94</td>\n",
       "      <td>28.1</td>\n",
       "      <td>0.167</td>\n",
       "      <td>21</td>\n",
       "      <td>0</td>\n",
       "    </tr>\n",
       "    <tr>\n",
       "      <th>4</th>\n",
       "      <td>0</td>\n",
       "      <td>137</td>\n",
       "      <td>40</td>\n",
       "      <td>35</td>\n",
       "      <td>168</td>\n",
       "      <td>43.1</td>\n",
       "      <td>2.288</td>\n",
       "      <td>33</td>\n",
       "      <td>1</td>\n",
       "    </tr>\n",
       "  </tbody>\n",
       "</table>\n",
       "</div>"
      ],
      "text/plain": [
       "   Pregnancies  Glucose  BloodPressure  SkinThickness  Insulin   BMI  \\\n",
       "0            6      148             72             35        0  33.6   \n",
       "1            1       85             66             29        0  26.6   \n",
       "2            8      183             64              0        0  23.3   \n",
       "3            1       89             66             23       94  28.1   \n",
       "4            0      137             40             35      168  43.1   \n",
       "\n",
       "   DiabetesPedigreeFunction  Age  Outcome  \n",
       "0                     0.627   50        1  \n",
       "1                     0.351   31        0  \n",
       "2                     0.672   32        1  \n",
       "3                     0.167   21        0  \n",
       "4                     2.288   33        1  "
      ]
     },
     "execution_count": 4,
     "metadata": {},
     "output_type": "execute_result"
    }
   ],
   "source": [
    "diabetes.head()"
   ]
  },
  {
   "cell_type": "markdown",
   "metadata": {},
   "source": [
    "“Outcome” is the feature we are going to predict, 0 means 'Non-Diabetic', 1 means 'Diabetic'. "
   ]
  },
  {
   "cell_type": "code",
   "execution_count": 5,
   "metadata": {},
   "outputs": [
    {
     "data": {
      "text/plain": [
       "<matplotlib.axes._subplots.AxesSubplot at 0x206b5f43400>"
      ]
     },
     "execution_count": 5,
     "metadata": {},
     "output_type": "execute_result"
    },
    {
     "data": {
      "image/png": "[encoded data removed]",
      "text/plain": [
       "<Figure size 432x288 with 1 Axes>"
      ]
     },
     "metadata": {
      "needs_background": "light"
     },
     "output_type": "display_data"
    }
   ],
   "source": [
    "diabetes.groupby('Outcome').size()\n",
    "sns.countplot(diabetes['Outcome'],label=\"Count\")"
   ]
  },
  {
   "cell_type": "markdown",
   "metadata": {},
   "source": [
    "We can identify that out of the 768 persons, 500 are labeled as 0 (Non-Diabetic) and 268 as 1 (Diabetic)"
   ]
  },
  {
   "cell_type": "code",
   "execution_count": 6,
   "metadata": {},
   "outputs": [
    {
     "data": {
      "text/plain": [
       "array([<matplotlib.axes._subplots.AxesSubplot object at 0x00000206B622B080>],\n",
       "      dtype=object)"
      ]
     },
     "execution_count": 6,
     "metadata": {},
     "output_type": "execute_result"
    },
    {
     "data": {
      "image/png": "[encoded data removed]",
      "text/plain": [
       "<Figure size 288x288 with 1 Axes>"
      ]
     },
     "metadata": {},
     "output_type": "display_data"
    }
   ],
   "source": [
    "diabetes.groupby('Outcome').size().plot(kind='pie', subplots=True, figsize=(4, 4), autopct='%.2f')"
   ]
  },
  {
   "cell_type": "markdown",
   "metadata": {},
   "source": [
    "\n",
    "So, 34.90% people in current data set have diabetes and the remaining 65.10% do not have diabetes.\n",
    "Its a good distribution True/False cases of diabetes in data.\n"
   ]
  },
  {
   "cell_type": "markdown",
   "metadata": {},
   "source": [
    "Identifying correlation in data graphically:"
   ]
  },
  {
   "cell_type": "code",
   "execution_count": 7,
   "metadata": {},
   "outputs": [],
   "source": [
    "def plot_corr(df, size=11):\n",
    "    corr = df.corr()\n",
    "    fig, ax = plt.subplots(figsize=(size, size))\n",
    "    ax.matshow(corr)\n",
    "    plt.xticks(range(len(corr.columns)), corr.columns)\n",
    "    plt.yticks(range(len(corr.columns)), corr.columns)"
   ]
  },
  {
   "cell_type": "code",
   "execution_count": 8,
   "metadata": {},
   "outputs": [
    {
     "data": {
      "image/png": "[encoded data removed]",
      "text/plain": [
       "<Figure size 792x792 with 1 Axes>"
      ]
     },
     "metadata": {
      "needs_background": "light"
     },
     "output_type": "display_data"
    }
   ],
   "source": [
    "plot_corr(diabetes)"
   ]
  },
  {
   "cell_type": "markdown",
   "metadata": {},
   "source": [
    "In the above visualization plot, yellow colour represents maximum correlation and blue colour represents minimum correlation. We can see none of the variable have proper correlation with any of the other variables."
   ]
  },
  {
   "cell_type": "code",
   "execution_count": 9,
   "metadata": {},
   "outputs": [
    {
     "data": {
      "text/plain": [
       "array([[<matplotlib.axes._subplots.AxesSubplot object at 0x00000206B72C4D30>,\n",
       "        <matplotlib.axes._subplots.AxesSubplot object at 0x00000206B72F9278>,\n",
       "        <matplotlib.axes._subplots.AxesSubplot object at 0x00000206B7321908>],\n",
       "       [<matplotlib.axes._subplots.AxesSubplot object at 0x00000206B734AF98>,\n",
       "        <matplotlib.axes._subplots.AxesSubplot object at 0x00000206B737A668>,\n",
       "        <matplotlib.axes._subplots.AxesSubplot object at 0x00000206B737A6A0>],\n",
       "       [<matplotlib.axes._subplots.AxesSubplot object at 0x00000206B73D33C8>,\n",
       "        <matplotlib.axes._subplots.AxesSubplot object at 0x00000206B73FBA58>,\n",
       "        <matplotlib.axes._subplots.AxesSubplot object at 0x00000206B742D128>]],\n",
       "      dtype=object)"
      ]
     },
     "execution_count": 9,
     "metadata": {},
     "output_type": "execute_result"
    },
    {
     "data": {
      "image/png": "[encoded data removed]",
      "text/plain": [
       "<Figure size 864x576 with 9 Axes>"
      ]
     },
     "metadata": {
      "needs_background": "light"
     },
     "output_type": "display_data"
    }
   ],
   "source": [
    "diabetes.hist(figsize=(12,8),bins=20)"
   ]
  },
  {
   "cell_type": "markdown",
   "metadata": {},
   "source": [
    "# Data Cleaning"
   ]
  },
  {
   "cell_type": "markdown",
   "metadata": {},
   "source": [
    "Checking if there are Missing or Null Datapoints"
   ]
  },
  {
   "cell_type": "code",
   "execution_count": 10,
   "metadata": {},
   "outputs": [
    {
     "name": "stdout",
     "output_type": "stream",
     "text": [
      "<class 'pandas.core.frame.DataFrame'>\n",
      "RangeIndex: 768 entries, 0 to 767\n",
      "Data columns (total 9 columns):\n",
      "Pregnancies                 768 non-null int64\n",
      "Glucose                     768 non-null int64\n",
      "BloodPressure               768 non-null int64\n",
      "SkinThickness               768 non-null int64\n",
      "Insulin                     768 non-null int64\n",
      "BMI                         768 non-null float64\n",
      "DiabetesPedigreeFunction    768 non-null float64\n",
      "Age                         768 non-null int64\n",
      "Outcome                     768 non-null int64\n",
      "dtypes: float64(2), int64(7)\n",
      "memory usage: 54.1 KB\n"
     ]
    }
   ],
   "source": [
    "diabetes.info()"
   ]
  },
  {
   "cell_type": "markdown",
   "metadata": {},
   "source": [
    "We can see that there are no missing or null datapoints. \n",
    "Moreover, all the datapoints are numbers."
   ]
  },
  {
   "cell_type": "markdown",
   "metadata": {},
   "source": [
    "The dataset does not have any missing/null datapoints. But there can be a lot of entries with 0 values. They can be removed or filled in with means."
   ]
  },
  {
   "cell_type": "markdown",
   "metadata": {},
   "source": [
    "Further Data Cleaning is effectively done through the WEKA tool."
   ]
  },
  {
   "cell_type": "markdown",
   "metadata": {},
   "source": [
    "Loading the cleaned dataset:"
   ]
  },
  {
   "cell_type": "code",
   "execution_count": 11,
   "metadata": {},
   "outputs": [],
   "source": [
    "diabetes = pd.read_csv('pima_diabetes_cleaned.csv')"
   ]
  },
  {
   "cell_type": "code",
   "execution_count": 12,
   "metadata": {},
   "outputs": [
    {
     "data": {
      "text/html": [
       "<div>\n",
       "<style scoped>\n",
       "    .dataframe tbody tr th:only-of-type {\n",
       "        vertical-align: middle;\n",
       "    }\n",
       "\n",
       "    .dataframe tbody tr th {\n",
       "        vertical-align: top;\n",
       "    }\n",
       "\n",
       "    .dataframe thead th {\n",
       "        text-align: right;\n",
       "    }\n",
       "</style>\n",
       "<table border=\"1\" class=\"dataframe\">\n",
       "  <thead>\n",
       "    <tr style=\"text-align: right;\">\n",
       "      <th></th>\n",
       "      <th>Pregnancies</th>\n",
       "      <th>Glucose</th>\n",
       "      <th>BloodPressure</th>\n",
       "      <th>SkinThickness</th>\n",
       "      <th>Insulin</th>\n",
       "      <th>BMI</th>\n",
       "      <th>DiabetesPedigreeFunction</th>\n",
       "      <th>Age</th>\n",
       "      <th>Outcome</th>\n",
       "    </tr>\n",
       "  </thead>\n",
       "  <tbody>\n",
       "    <tr>\n",
       "      <th>0</th>\n",
       "      <td>6.000000</td>\n",
       "      <td>148.0</td>\n",
       "      <td>72.0</td>\n",
       "      <td>35.00000</td>\n",
       "      <td>155.548223</td>\n",
       "      <td>33.6</td>\n",
       "      <td>0.627</td>\n",
       "      <td>50</td>\n",
       "      <td>1</td>\n",
       "    </tr>\n",
       "    <tr>\n",
       "      <th>1</th>\n",
       "      <td>1.000000</td>\n",
       "      <td>85.0</td>\n",
       "      <td>66.0</td>\n",
       "      <td>29.00000</td>\n",
       "      <td>155.548223</td>\n",
       "      <td>26.6</td>\n",
       "      <td>0.351</td>\n",
       "      <td>31</td>\n",
       "      <td>0</td>\n",
       "    </tr>\n",
       "    <tr>\n",
       "      <th>2</th>\n",
       "      <td>8.000000</td>\n",
       "      <td>183.0</td>\n",
       "      <td>64.0</td>\n",
       "      <td>29.15342</td>\n",
       "      <td>155.548223</td>\n",
       "      <td>23.3</td>\n",
       "      <td>0.672</td>\n",
       "      <td>32</td>\n",
       "      <td>1</td>\n",
       "    </tr>\n",
       "    <tr>\n",
       "      <th>3</th>\n",
       "      <td>1.000000</td>\n",
       "      <td>89.0</td>\n",
       "      <td>66.0</td>\n",
       "      <td>23.00000</td>\n",
       "      <td>94.000000</td>\n",
       "      <td>28.1</td>\n",
       "      <td>0.167</td>\n",
       "      <td>21</td>\n",
       "      <td>0</td>\n",
       "    </tr>\n",
       "    <tr>\n",
       "      <th>4</th>\n",
       "      <td>4.494673</td>\n",
       "      <td>137.0</td>\n",
       "      <td>40.0</td>\n",
       "      <td>35.00000</td>\n",
       "      <td>168.000000</td>\n",
       "      <td>43.1</td>\n",
       "      <td>2.288</td>\n",
       "      <td>33</td>\n",
       "      <td>1</td>\n",
       "    </tr>\n",
       "  </tbody>\n",
       "</table>\n",
       "</div>"
      ],
      "text/plain": [
       "   Pregnancies  Glucose  BloodPressure  SkinThickness     Insulin   BMI  \\\n",
       "0     6.000000    148.0           72.0       35.00000  155.548223  33.6   \n",
       "1     1.000000     85.0           66.0       29.00000  155.548223  26.6   \n",
       "2     8.000000    183.0           64.0       29.15342  155.548223  23.3   \n",
       "3     1.000000     89.0           66.0       23.00000   94.000000  28.1   \n",
       "4     4.494673    137.0           40.0       35.00000  168.000000  43.1   \n",
       "\n",
       "   DiabetesPedigreeFunction  Age  Outcome  \n",
       "0                     0.627   50        1  \n",
       "1                     0.351   31        0  \n",
       "2                     0.672   32        1  \n",
       "3                     0.167   21        0  \n",
       "4                     2.288   33        1  "
      ]
     },
     "execution_count": 12,
     "metadata": {},
     "output_type": "execute_result"
    }
   ],
   "source": [
    "diabetes.head()"
   ]
  },
  {
   "cell_type": "markdown",
   "metadata": {},
   "source": [
    "Note that there are no zero values in the dataframe now."
   ]
  },
  {
   "cell_type": "markdown",
   "metadata": {},
   "source": [
    "# Feature Engineering"
   ]
  },
  {
   "cell_type": "markdown",
   "metadata": {},
   "source": [
    "Feature engineering enables to highlight the important features and facilitate to bring domain expertise on the problem to the table. It also allows to avoid overfitting the model despite providing many input features"
   ]
  },
  {
   "cell_type": "markdown",
   "metadata": {},
   "source": [
    "By a crude observation we can say that the ‘Skin Thickness’ is not an indicator of diabetes. But we can’t deny the fact that it is unusable at this point.\n",
    "\n",
    "Therefore we will use all the features available. We separate the data set into features and the response that we are going to predict. We will assign the features to the X variable and the response to the y variable."
   ]
  },
  {
   "cell_type": "code",
   "execution_count": 13,
   "metadata": {},
   "outputs": [
    {
     "name": "stdout",
     "output_type": "stream",
     "text": [
      "Num Features:  1\n",
      "Selected Features:  [False False False False False False  True False]\n",
      "['preg', 'plas', 'pres', 'skin', 'test', 'mass', 'pedi', 'age']\n",
      "Feature Ranking:  [2 4 5 8 7 3 1 6]\n"
     ]
    }
   ],
   "source": [
    "feature_names = ['Pregnancies',\n",
    "                 'Glucose',\n",
    "                 'BloodPressure',\n",
    "                 'SkinThickness',\n",
    "                 'Insulin',\n",
    "                 'BMI',\n",
    "                 'DiabetesPedigreeFunction',\n",
    "                 'Age']\n",
    "\n",
    "X = diabetes[feature_names]\n",
    "y = diabetes.Outcome\n",
    "\n",
    "from sklearn.feature_selection import RFE\n",
    "from sklearn.linear_model import LogisticRegression\n",
    "# load data\n",
    "array = diabetes.values\n",
    "# feature extraction\n",
    "model = LogisticRegression()\n",
    "rfe = RFE(model, 1)\n",
    "fit = rfe.fit(X, y)\n",
    "names = ['preg', 'plas', 'pres', 'skin', 'test', 'mass', 'pedi', 'age']\n",
    "print(\"Num Features: \",fit.n_features_)\n",
    "print(\"Selected Features: \", fit.support_)\n",
    "print(names)\n",
    "print(\"Feature Ranking: \", fit.ranking_)"
   ]
  },
  {
   "cell_type": "markdown",
   "metadata": {},
   "source": [
    "# Model Selection: Comparison of Calibration of Classifiers"
   ]
  },
  {
   "cell_type": "markdown",
   "metadata": {},
   "source": [
    "It is the phase where we select the model whose caliberation and relaibility estimate performs best for the data set at hand.\n",
    "\n",
    "First we will be calculating the “Classification Accuracy (Testing Accuracy)” of a given set of classification models with their default parameters to predict which model can perform better with the diabetes data set.\n",
    "\n",
    "We will import the necessary libraries to the notebook. We import 6 classifiers namely K-Nearest Neighbors, Support Vector Classifier, Logistic Regression, Gaussian Naive Bayes and Random Forest to be contenders for the best classifier."
   ]
  },
  {
   "cell_type": "code",
   "execution_count": 14,
   "metadata": {},
   "outputs": [
    {
     "name": "stderr",
     "output_type": "stream",
     "text": [
      "C:\\Users\\Astha\\Anaconda2\\envs\\py36\\lib\\site-packages\\sklearn\\ensemble\\weight_boosting.py:29: DeprecationWarning: numpy.core.umath_tests is an internal NumPy module and should not be imported. It will be removed in a future NumPy release.\n",
      "  from numpy.core.umath_tests import inner1d\n"
     ]
    }
   ],
   "source": [
    "from sklearn.neighbors import KNeighborsClassifier\n",
    "from sklearn.svm import SVC\n",
    "from sklearn.linear_model import LogisticRegression\n",
    "from sklearn.tree import DecisionTreeClassifier\n",
    "from sklearn.naive_bayes import GaussianNB\n",
    "from sklearn.ensemble import RandomForestClassifier\n",
    "from sklearn.neural_network import MLPClassifier"
   ]
  },
  {
   "cell_type": "code",
   "execution_count": 15,
   "metadata": {},
   "outputs": [],
   "source": [
    "models = []\n",
    "\n",
    "models.append(('KNN', KNeighborsClassifier()))\n",
    "models.append(('SVC', SVC()))\n",
    "models.append(('LR', LogisticRegression()))\n",
    "models.append(('DT', DecisionTreeClassifier()))\n",
    "models.append(('GNB', GaussianNB()))\n",
    "models.append(('RF', RandomForestClassifier()))\n",
    "models.append(('ANN', MLPClassifier()))"
   ]
  },
  {
   "cell_type": "markdown",
   "metadata": {},
   "source": [
    "# Train/Test Split\n",
    "\n",
    "This method split the data set into two portions : a training set and a testing set. The training set is used to train the model. And the testing set is used to test the model, and evaluate the accuracy."
   ]
  },
  {
   "cell_type": "code",
   "execution_count": 16,
   "metadata": {},
   "outputs": [],
   "source": [
    "from sklearn.model_selection import train_test_split\n",
    "from sklearn.metrics import accuracy_score"
   ]
  },
  {
   "cell_type": "code",
   "execution_count": 17,
   "metadata": {},
   "outputs": [],
   "source": [
    "X_train, X_test, y_train, y_test = train_test_split(X, y, stratify = diabetes.Outcome, random_state=0)"
   ]
  },
  {
   "cell_type": "code",
   "execution_count": 18,
   "metadata": {},
   "outputs": [
    {
     "name": "stdout",
     "output_type": "stream",
     "text": [
      "  Name     Score\n",
      "0  KNN  0.723958\n",
      "1  SVC  0.651042\n",
      "2   LR  0.791667\n",
      "3   DT  0.703125\n",
      "4  GNB  0.750000\n",
      "5   RF  0.703125\n",
      "6  ANN  0.729167\n"
     ]
    }
   ],
   "source": [
    "names = []\n",
    "scores = []\n",
    "\n",
    "for name, model in models:\n",
    "    model.fit(X_train, y_train)\n",
    "    y_pred = model.predict(X_test) #prediction of models\n",
    "    scores.append(accuracy_score(y_test, y_pred))\n",
    "    names.append(name)\n",
    "\n",
    "tr_split = pd.DataFrame({'Name': names, 'Score': scores})\n",
    "print(tr_split)"
   ]
  },
  {
   "cell_type": "markdown",
   "metadata": {},
   "source": [
    "Now, the predicted accuracy scores can be plotted using seaborn"
   ]
  },
  {
   "cell_type": "code",
   "execution_count": 19,
   "metadata": {},
   "outputs": [
    {
     "data": {
      "image/png": "[encoded data removed]",
      "text/plain": [
       "<Figure size 432x288 with 1 Axes>"
      ]
     },
     "metadata": {
      "needs_background": "light"
     },
     "output_type": "display_data"
    }
   ],
   "source": [
    "axis = sns.barplot(x = 'Name', y = 'Score', data = tr_split)\n",
    "axis.set(xlabel='Classifier', ylabel='Predicted Accuracy')\n",
    "\n",
    "for p in axis.patches:\n",
    "    height = p.get_height()\n",
    "    axis.text(p.get_x() + p.get_width()/2, height + 0.005, '{:1.4f}'.format(height), ha=\"center\") \n",
    "    \n",
    "plt.show()"
   ]
  },
  {
   "cell_type": "markdown",
   "metadata": {},
   "source": [
    "We can see that Logistic Regression, Gaussian Naive Bayes, K-Nearest Neighbour and Random Forest have performed better than the rest. \n",
    "\n",
    "At the baseline Logistic Regression managed to achieve a classification accuracy of 77.64 %. \n",
    "This will be selected as the prime candidate for the next phases. \n",
    "\n",
    "Gaussian Naive Bayes, K-Nearest Neighbour and Random Forest can be implemented too."
   ]
  },
  {
   "cell_type": "markdown",
   "metadata": {},
   "source": [
    "# Model Building"
   ]
  },
  {
   "cell_type": "markdown",
   "metadata": {},
   "source": [
    "The k-NN algorithm is arguably the simplest machine learning algorithm. Building the model consists only of storing the training data set. To make a prediction for a new data point, the algorithm finds the closest data points in the training data set — its “nearest neighbors.”"
   ]
  },
  {
   "cell_type": "code",
   "execution_count": 24,
   "metadata": {},
   "outputs": [
    {
     "data": {
      "image/png": "[encoded data removed]",
      "text/plain": [
       "<Figure size 432x288 with 1 Axes>"
      ]
     },
     "metadata": {
      "needs_background": "light"
     },
     "output_type": "display_data"
    }
   ],
   "source": [
    "from sklearn.model_selection import train_test_split\n",
    "\n",
    "X_train, X_test, y_train, y_test = train_test_split(diabetes.loc[:, diabetes.columns != 'Outcome'], diabetes['Outcome'], stratify=diabetes['Outcome'], random_state=66)\n",
    "\n",
    "from sklearn.neighbors import KNeighborsClassifier\n",
    "\n",
    "training_accuracy = []\n",
    "test_accuracy = []\n",
    "# try n_neighbors from 1 to 10\n",
    "neighbors_settings = range(1, 11)\n",
    "\n",
    "for n_neighbors in neighbors_settings:\n",
    "    # build the model\n",
    "    knn = KNeighborsClassifier(n_neighbors=n_neighbors)\n",
    "    knn.fit(X_train, y_train)\n",
    "    # record training set accuracy\n",
    "    training_accuracy.append(knn.score(X_train, y_train))\n",
    "    # record test set accuracy\n",
    "    test_accuracy.append(knn.score(X_test, y_test))\n",
    "\n",
    "plt.plot(neighbors_settings, training_accuracy, label=\"training accuracy\")\n",
    "plt.plot(neighbors_settings, test_accuracy, label=\"test accuracy\")\n",
    "plt.ylabel(\"Accuracy\")\n",
    "plt.xlabel(\"n_neighbors\")\n",
    "plt.legend()\n",
    "plt.savefig('knn_compare_model')"
   ]
  },
  {
   "cell_type": "markdown",
   "metadata": {},
   "source": [
    "The above plot shows the training and test set accuracy on the y-axis against the setting of n_neighbors on the x-axis. Considering if we choose one single nearest neighbor, the prediction on the training set is perfect. But when more neighbors are considered, the training accuracy drops, indicating that using the single nearest neighbor leads to a model that is too complex. The best performance is somewhere around 9 neighbors.\n",
    "\n",
    "The plot suggests that we should choose n_neighbors=9. Here we are:"
   ]
  },
  {
   "cell_type": "code",
   "execution_count": 25,
   "metadata": {},
   "outputs": [
    {
     "name": "stdout",
     "output_type": "stream",
     "text": [
      "Accuracy of K-NN classifier on training set: 0.77\n",
      "Accuracy of K-NN classifier on test set: 0.74\n"
     ]
    }
   ],
   "source": [
    "knn = KNeighborsClassifier(n_neighbors=9)\n",
    "knn.fit(X_train, y_train)\n",
    "\n",
    "print('Accuracy of K-NN classifier on training set: {:.2f}'.format(knn.score(X_train, y_train)))\n",
    "print('Accuracy of K-NN classifier on test set: {:.2f}'.format(knn.score(X_test, y_test)))"
   ]
  },
  {
   "cell_type": "markdown",
   "metadata": {},
   "source": [
    "# Naive Bayes Algorithm"
   ]
  },
  {
   "cell_type": "code",
   "execution_count": 27,
   "metadata": {},
   "outputs": [
    {
     "data": {
      "text/plain": [
       "GaussianNB(priors=None)"
      ]
     },
     "execution_count": 27,
     "metadata": {},
     "output_type": "execute_result"
    }
   ],
   "source": [
    "from sklearn.naive_bayes import GaussianNB # I am using Gaussian algorithm from Naive Bayes\n",
    "\n",
    "# Lets creat the model\n",
    "diab_model = GaussianNB()\n",
    "\n",
    "diab_model.fit(X_train, y_train.ravel())"
   ]
  },
  {
   "cell_type": "markdown",
   "metadata": {},
   "source": [
    "Performance of the model with training data"
   ]
  },
  {
   "cell_type": "code",
   "execution_count": 28,
   "metadata": {},
   "outputs": [
    {
     "name": "stdout",
     "output_type": "stream",
     "text": [
      "Model Accuracy: 0.7517\n",
      "\n"
     ]
    }
   ],
   "source": [
    "diab_train_predict = diab_model.predict(X_train)\n",
    "\n",
    "from sklearn import metrics\n",
    "\n",
    "print(\"Model Accuracy: {0:.4f}\".format(metrics.accuracy_score(y_train, diab_train_predict)))\n",
    "print()"
   ]
  },
  {
   "cell_type": "markdown",
   "metadata": {},
   "source": [
    "Performance of the model with testing data"
   ]
  },
  {
   "cell_type": "code",
   "execution_count": 29,
   "metadata": {},
   "outputs": [
    {
     "name": "stdout",
     "output_type": "stream",
     "text": [
      "Model Accuracy: 0.7552\n",
      "\n"
     ]
    }
   ],
   "source": [
    "diab_test_predict = diab_model.predict(X_test)\n",
    "\n",
    "from sklearn import metrics\n",
    "\n",
    "print(\"Model Accuracy: {0:.4f}\".format(metrics.accuracy_score(y_test, diab_test_predict)))\n",
    "print()"
   ]
  },
  {
   "cell_type": "markdown",
   "metadata": {},
   "source": [
    "The Confusion Matrix and the Classification Report"
   ]
  },
  {
   "cell_type": "code",
   "execution_count": 30,
   "metadata": {},
   "outputs": [
    {
     "name": "stdout",
     "output_type": "stream",
     "text": [
      "Confusion Matrix\n",
      "[[ 44  23]\n",
      " [ 24 101]]\n",
      "\n",
      "Classification Report\n",
      "             precision    recall  f1-score   support\n",
      "\n",
      "          1       0.65      0.66      0.65        67\n",
      "          0       0.81      0.81      0.81       125\n",
      "\n",
      "avg / total       0.76      0.76      0.76       192\n",
      "\n"
     ]
    }
   ],
   "source": [
    "print(\"Confusion Matrix\")\n",
    "\n",
    "print(\"{0}\".format(metrics.confusion_matrix(y_test, diab_test_predict, labels=[1, 0])))\n",
    "print(\"\")\n",
    "\n",
    "print(\"Classification Report\")\n",
    "print(metrics.classification_report(y_test, diab_test_predict, labels=[1, 0]))"
   ]
  },
  {
   "cell_type": "markdown",
   "metadata": {},
   "source": [
    "# Logistic Regression Algorithm"
   ]
  },
  {
   "cell_type": "code",
   "execution_count": 31,
   "metadata": {},
   "outputs": [],
   "source": [
    "from sklearn.model_selection import train_test_split\n",
    "\n",
    "X_train, X_test, y_train, y_test = train_test_split(diabetes.loc[:, diabetes.columns != 'Outcome'], diabetes['Outcome'], stratify=diabetes['Outcome'], random_state=66)"
   ]
  },
  {
   "cell_type": "code",
   "execution_count": 33,
   "metadata": {},
   "outputs": [
    {
     "name": "stdout",
     "output_type": "stream",
     "text": [
      "Model Accuracy: 0.7708\n",
      "\n",
      "Confusion Matrix\n",
      "[[ 40  27]\n",
      " [ 17 108]]\n",
      "\n",
      "Classification Report\n",
      "             precision    recall  f1-score   support\n",
      "\n",
      "          1       0.70      0.60      0.65        67\n",
      "          0       0.80      0.86      0.83       125\n",
      "\n",
      "avg / total       0.77      0.77      0.77       192\n",
      "\n"
     ]
    }
   ],
   "source": [
    "from sklearn.linear_model import LogisticRegression\n",
    "diab_lr_model = LogisticRegression()\n",
    "diab_lr_model.fit(X_train, y_train.ravel())\n",
    "lr_test_predict = diab_lr_model.predict(X_test)\n",
    "\n",
    "print(\"Model Accuracy: {0:.4f}\".format(metrics.accuracy_score(y_test, lr_test_predict)))\n",
    "print(\"\")\n",
    "print(\"Confusion Matrix\")\n",
    "print(metrics.confusion_matrix(y_test, lr_test_predict, labels=[1, 0]))\n",
    "print(\"\")\n",
    "print(\"Classification Report\")\n",
    "print(metrics.classification_report(y_test, lr_test_predict, labels=[1, 0]))"
   ]
  },
  {
   "cell_type": "markdown",
   "metadata": {},
   "source": [
    "# Random Forest Algorithm"
   ]
  },
  {
   "cell_type": "markdown",
   "metadata": {},
   "source": [
    "The classification is done on the 'Outcome' column, which will be our independent variable. All the other columns will be used as features for the model."
   ]
  },
  {
   "cell_type": "code",
   "execution_count": 5,
   "metadata": {},
   "outputs": [],
   "source": [
    "X = diabetes.drop('Outcome', axis=1)\n",
    "y = diabetes['Outcome']"
   ]
  },
  {
   "cell_type": "code",
   "execution_count": null,
   "metadata": {},
   "outputs": [],
   "source": [
    "diabetes.drop('Outcome', axis=1)"
   ]
  },
  {
   "cell_type": "markdown",
   "metadata": {},
   "source": [
    "Using train-test-split to split the data into training data and testing data:"
   ]
  },
  {
   "cell_type": "code",
   "execution_count": 6,
   "metadata": {},
   "outputs": [],
   "source": [
    "from sklearn.model_selection import train_test_split\n",
    "\n",
    "# implementing train-test-split\n",
    "X_train, X_test, y_train, y_test = train_test_split(X, y, test_size=0.33, random_state=66)"
   ]
  },
  {
   "cell_type": "markdown",
   "metadata": {},
   "source": [
    "Creating the random forest model:"
   ]
  },
  {
   "cell_type": "code",
   "execution_count": 7,
   "metadata": {},
   "outputs": [],
   "source": [
    "from sklearn import model_selection\n",
    "\n",
    "# random forest model creation\n",
    "rfc = RandomForestClassifier()\n",
    "rfc.fit(X_train,y_train)\n",
    "\n",
    "# predictions\n",
    "rfc_predict = rfc.predict(X_test)"
   ]
  },
  {
   "cell_type": "markdown",
   "metadata": {},
   "source": [
    "Evaluating how the model performs: import cross_val_score, classification_report, and confusion_matrix and run cross-validation to get a better overview of the results:"
   ]
  },
  {
   "cell_type": "code",
   "execution_count": 18,
   "metadata": {},
   "outputs": [
    {
     "name": "stdout",
     "output_type": "stream",
     "text": [
      "1.0\n",
      "Confusion Matrix\n",
      "[[147  29]\n",
      " [ 30  48]]\n",
      "\n",
      "\n",
      "Classification Report\n",
      "             precision    recall  f1-score   support\n",
      "\n",
      "          0       0.83      0.84      0.83       176\n",
      "          1       0.62      0.62      0.62        78\n",
      "\n",
      "avg / total       0.77      0.77      0.77       254\n",
      "\n",
      "\n",
      "\n",
      "All AUC Scores\n",
      "[0.78481481 0.83296296 0.83777778 0.73703704 0.8262963  0.84888889\n",
      " 0.84962963 0.90074074 0.8        0.87730769]\n",
      "\n",
      "\n",
      "Mean AUC Score\n",
      "('Mean AUC Score - Random Forest: ', 0.8295455840455841)\n"
     ]
    }
   ],
   "source": [
    "from sklearn.model_selection import cross_val_score\n",
    "from sklearn.metrics import classification_report, confusion_matrix\n",
    "rfc_cv_score = cross_val_score(rfc, X, y, cv=10, scoring='roc_auc')\n",
    "\n",
    "print(rfc.score(X_train, y_train))\n",
    "\n",
    "print(\"Confusion Matrix\")\n",
    "print(confusion_matrix(y_test, rfc_predict))\n",
    "print('\\n')\n",
    "\n",
    "print(\"Classification Report\")\n",
    "print(classification_report(y_test, rfc_predict))\n",
    "print('\\n')\n",
    "\n",
    "print(\"All AUC Scores\")\n",
    "\n",
    "print(rfc_cv_score)\n",
    "print('\\n')\n",
    "\n",
    "print(\"Mean AUC Score\")\n",
    "print(\"Mean AUC Score - Random Forest: \", rfc_cv_score.mean())"
   ]
  },
  {
   "cell_type": "markdown",
   "metadata": {},
   "source": [
    "The confusion matrix is useful for giving you false positives and false negatives. The classification report tells you the accuracy of your model. \n",
    "\n",
    "AUC is an abbrevation for area under the curve. It is used in classification analysis in order to determine which of the used models predicts the classes best. It is basically a measure of accuracy.\n",
    "\n",
    "The ROC curve plots out the true positive rate versus the false positive rate at various thresholds. The roc_auc scoring used in the cross-validation model shows the area under the ROC curve.\n",
    "\n",
    "We'll evaluate our model’s score based on the roc_auc score, which is 0.787. The next thing is tuning the hyperparameters to see if the performance of the model can be improved."
   ]
  },
  {
   "cell_type": "markdown",
   "metadata": {},
   "source": [
    "# Hyperparameter Tuning the Random Forest Model"
   ]
  },
  {
   "cell_type": "code",
   "execution_count": 13,
   "metadata": {},
   "outputs": [
    {
     "name": "stdout",
     "output_type": "stream",
     "text": [
      "Fitting 3 folds for each of 100 candidates, totalling 300 fits\n"
     ]
    },
    {
     "name": "stderr",
     "output_type": "stream",
     "text": [
      "[Parallel(n_jobs=-1)]: Done  33 tasks      | elapsed:  1.9min\n",
      "[Parallel(n_jobs=-1)]: Done 154 tasks      | elapsed:  7.2min\n",
      "[Parallel(n_jobs=-1)]: Done 300 out of 300 | elapsed: 13.3min finished\n"
     ]
    },
    {
     "name": "stdout",
     "output_type": "stream",
     "text": [
      "{'n_estimators': 1400, 'max_features': 'auto', 'max_depth': 340}\n"
     ]
    }
   ],
   "source": [
    "from sklearn.model_selection import RandomizedSearchCV\n",
    "\n",
    "# number of trees in random forest\n",
    "n_estimators = [int(x) for x in np.linspace(start = 200, stop = 2000, num = 10)]\n",
    "\n",
    "# number of features at every split\n",
    "max_features = ['auto', 'sqrt']\n",
    "\n",
    "# max depth\n",
    "max_depth = [int(x) for x in np.linspace(100, 500, num = 11)]\n",
    "max_depth.append(None)\n",
    "\n",
    "# create random grid\n",
    "random_grid = {\n",
    " 'n_estimators': n_estimators,\n",
    " 'max_features': max_features,\n",
    " 'max_depth': max_depth\n",
    " }\n",
    "\n",
    "# Random search of parameters\n",
    "rfc_random = RandomizedSearchCV(estimator = rfc, param_distributions = random_grid, n_iter = 100, cv = 3, verbose=2, random_state=42, n_jobs = -1)\n",
    "\n",
    "# Fit the model\n",
    "rfc_random.fit(X_train, y_train.ravel())\n",
    "\n",
    "# print results\n",
    "print(rfc_random.best_params_)"
   ]
  },
  {
   "cell_type": "markdown",
   "metadata": {},
   "source": [
    "The results are: 'n_estimators' = 1200; 'max_features' = 'auto'; 'max_depth': 180. Now these parameters can be plugged back into the model to see whether it improved the performance."
   ]
  },
  {
   "cell_type": "code",
   "execution_count": 14,
   "metadata": {},
   "outputs": [
    {
     "name": "stdout",
     "output_type": "stream",
     "text": [
      "Confusion Matrix\n",
      "[[147  29]\n",
      " [ 30  48]]\n",
      "\n",
      "\n",
      "Classification Report\n",
      "             precision    recall  f1-score   support\n",
      "\n",
      "          0       0.83      0.84      0.83       176\n",
      "          1       0.62      0.62      0.62        78\n",
      "\n",
      "avg / total       0.77      0.77      0.77       254\n",
      "\n",
      "\n",
      "\n",
      "All AUC Scores\n",
      "[0.77962963 0.83333333 0.83666667 0.73851852 0.82555556 0.8537037\n",
      " 0.85777778 0.89518519 0.80153846 0.86769231]\n",
      "\n",
      "\n",
      "Mean AUC Score\n",
      "('Mean AUC Score - Random Forest: ', 0.8289601139601139)\n"
     ]
    }
   ],
   "source": [
    "rfc = RandomForestClassifier(n_estimators=1200, max_depth=180, max_features='auto')\n",
    "rfc.fit(X_train,y_train.ravel())\n",
    "rfc_predict = rfc.predict(X_test)\n",
    "rfc_cv_score = cross_val_score(rfc, X, y, cv=10, scoring='roc_auc')\n",
    "\n",
    "print(\"Confusion Matrix\")\n",
    "print(confusion_matrix(y_test, rfc_predict))\n",
    "print('\\n')\n",
    "\n",
    "print(\"Classification Report\")\n",
    "print(classification_report(y_test, rfc_predict))\n",
    "print('\\n')\n",
    "\n",
    "print(\"All AUC Scores\")\n",
    "\n",
    "print(rfc_cv_score)\n",
    "print('\\n')\n",
    "\n",
    "print(\"Mean AUC Score\")\n",
    "print(\"Mean AUC Score - Random Forest: \", rfc_cv_score.mean())"
   ]
  },
  {
   "cell_type": "markdown",
   "metadata": {},
   "source": [
    "The output shows that there was a slight improvement in the results. The roc_auc score improved from .787 to .831. The upside is that the number of false positives decreased slightly."
   ]
  },
  {
   "cell_type": "markdown",
   "metadata": {},
   "source": [
    "# Checking with different Hypertuning Parameters"
   ]
  },
  {
   "cell_type": "code",
   "execution_count": 31,
   "metadata": {},
   "outputs": [
    {
     "data": {
      "image/png": "[encoded data removed]",
      "text/plain": [
       "<Figure size 432x288 with 1 Axes>"
      ]
     },
     "metadata": {},
     "output_type": "display_data"
    }
   ],
   "source": [
    "import numpy\n",
    "from matplotlib import pyplot\n",
    "\n",
    "x = numpy.array([400,600,800,1000,1200,1400])\n",
    "y = numpy.array([0.8299330484330485,0.829940170940171,0.8296937321937321,0.8276780626780628,0.8307606837606837,0.8289601139601139])\n",
    "\n",
    "fig = pyplot.figure()\n",
    "ax = fig.add_subplot(111)\n",
    "ax.set_ylim(0.80,0.85)\n",
    "pyplot.plot(x,y)\n",
    "pyplot.show()"
   ]
  },
  {
   "cell_type": "markdown",
   "metadata": {},
   "source": [
    "Clearly, at n_tree = 1200; max_features = 'auto'; max_depth: 180, the AUC score is highest and this, hence, will give the highest accuracy rate"
   ]
  },
  {
   "cell_type": "markdown",
   "metadata": {},
   "source": [
    "# FINAL RESULTS"
   ]
  },
  {
   "cell_type": "code",
   "execution_count": 9,
   "metadata": {},
   "outputs": [
    {
     "name": "stdout",
     "output_type": "stream",
     "text": [
      "             Name   Score\n",
      "0              LR  0.7700\n",
      "1  RF (not tuned)  0.7500\n",
      "2      RF (tuned)  0.7600\n",
      "3              NB  0.7532\n"
     ]
    }
   ],
   "source": [
    "models = []\n",
    "models.append(('LR', 0.77))\n",
    "models.append(('RF (not tuned)', 0.75))\n",
    "models.append(('RF (tuned)', 0.76))\n",
    "models.append(('NB', 0.7532))\n",
    "names = []\n",
    "scores = []\n",
    "\n",
    "for name, accuracy in models:\n",
    "    scores.append(accuracy)\n",
    "    names.append(name)\n",
    "    tb_split = pd.DataFrame({'Name': names, 'Score': scores})\n",
    "print(tb_split)"
   ]
  },
  {
   "cell_type": "code",
   "execution_count": 10,
   "metadata": {},
   "outputs": [
    {
     "data": {
      "image/png": "[encoded data removed]",
      "text/plain": [
       "<Figure size 432x288 with 1 Axes>"
      ]
     },
     "metadata": {},
     "output_type": "display_data"
    }
   ],
   "source": [
    "axis = sns.barplot(x = 'Name', y = 'Score', data = tb_split)\n",
    "axis.set(xlabel='Classifier', ylabel='Accuracy')\n",
    "\n",
    "for p in axis.patches:\n",
    "    height = p.get_height()\n",
    "    axis.text(p.get_x() + p.get_width()/2, height + 0.005, '{:1.4f}'.format(height), ha=\"center\") \n",
    "    \n",
    "plt.show()"
   ]
  },
  {
   "cell_type": "code",
   "execution_count": 4,
   "metadata": {},
   "outputs": [
    {
     "name": "stdout",
     "output_type": "stream",
     "text": [
      "             Name  Specificity\n",
      "0              LR         0.86\n",
      "1  RF (not tuned)         0.62\n",
      "2      RF (tuned)         0.60\n",
      "3              NB         0.80\n"
     ]
    },
    {
     "data": {
      "image/png": "[encoded data removed]",
      "text/plain": [
       "<Figure size 432x288 with 1 Axes>"
      ]
     },
     "metadata": {},
     "output_type": "display_data"
    }
   ],
   "source": [
    "models = []\n",
    "\n",
    "models.append(('LR', 0.86))\n",
    "\n",
    "models.append(('RF (not tuned)', 0.62))\n",
    "\n",
    "models.append(('RF (tuned)', 0.60))\n",
    "\n",
    "models.append(('NB', 0.80))\n",
    "\n",
    "names = []\n",
    "\n",
    "specificity = []\n",
    "\n",
    "\n",
    "\n",
    "for name, val in models:\n",
    "\n",
    "    specificity.append(val)\n",
    "\n",
    "    names.append(name)\n",
    "\n",
    "    tb_split = pd.DataFrame({'Name': names, 'Specificity': specificity})\n",
    "\n",
    "print(tb_split)\n",
    "\n",
    "axis = sns.barplot(x = 'Name', y = 'Specificity', data = tb_split)\n",
    "axis.set(xlabel='Classifier', ylabel='Specificity')\n",
    "\n",
    "for p in axis.patches:\n",
    "    height = p.get_height()\n",
    "    axis.text(p.get_x() + p.get_width()/2, height + 0.005, '{:1.4f}'.format(height), ha=\"center\") \n",
    "    \n",
    "plt.show()\n"
   ]
  },
  {
   "cell_type": "code",
   "execution_count": 5,
   "metadata": {},
   "outputs": [
    {
     "name": "stdout",
     "output_type": "stream",
     "text": [
      "             Name  Sensivitity\n",
      "0              LR         0.59\n",
      "1  RF (not tuned)         0.83\n",
      "2      RF (tuned)         0.84\n",
      "3              NB         0.64\n"
     ]
    },
    {
     "data": {
      "image/png": "[encoded data removed]",
      "text/plain": [
       "<Figure size 432x288 with 1 Axes>"
      ]
     },
     "metadata": {},
     "output_type": "display_data"
    }
   ],
   "source": [
    "models = []\n",
    "\n",
    "models.append(('LR', 0.59))\n",
    "\n",
    "models.append(('RF (not tuned)', 0.83))\n",
    "\n",
    "models.append(('RF (tuned)', 0.84))\n",
    "\n",
    "models.append(('NB', 0.64))\n",
    "\n",
    "names = []\n",
    "\n",
    "sensivity = []\n",
    "\n",
    "\n",
    "\n",
    "for name, val in models:\n",
    "\n",
    "    sensivity.append(val)\n",
    "\n",
    "    names.append(name)\n",
    "\n",
    "    tb_split = pd.DataFrame({'Name': names, 'Sensivitity': sensivity})\n",
    "\n",
    "print(tb_split)\n",
    "\n",
    "axis = sns.barplot(x = 'Name', y = 'Sensivitity', data = tb_split)\n",
    "axis.set(xlabel='Classifier', ylabel='Sensivitity')\n",
    "\n",
    "for p in axis.patches:\n",
    "    height = p.get_height()\n",
    "    axis.text(p.get_x() + p.get_width()/2, height + 0.005, '{:1.4f}'.format(height), ha=\"center\") \n",
    "    \n",
    "plt.show()\n"
   ]
  },
  {
   "cell_type": "code",
   "execution_count": 7,
   "metadata": {},
   "outputs": [],
   "source": [
    "from sklearn.model_selection import train_test_split\n",
    "\n",
    "X_train, X_test, y_train, y_test = train_test_split(diabetes.loc[:, diabetes.columns != 'Outcome'], diabetes['Outcome'], stratify=diabetes['Outcome'], random_state=66)"
   ]
  },
  {
   "cell_type": "code",
   "execution_count": 8,
   "metadata": {},
   "outputs": [
    {
     "name": "stdout",
     "output_type": "stream",
     "text": [
      "Accuracy on training set: 0.71\n",
      "Accuracy on test set: 0.67\n"
     ]
    }
   ],
   "source": [
    "from sklearn.neural_network import MLPClassifier\n",
    "\n",
    "mlp = MLPClassifier(random_state=42)\n",
    "mlp.fit(X_train, y_train)\n",
    "\n",
    "print(\"Accuracy on training set: {:.2f}\".format(mlp.score(X_train, y_train)))\n",
    "print(\"Accuracy on test set: {:.2f}\".format(mlp.score(X_test, y_test)))"
   ]
  },
  {
   "cell_type": "code",
   "execution_count": 9,
   "metadata": {},
   "outputs": [
    {
     "name": "stdout",
     "output_type": "stream",
     "text": [
      "Accuracy on training set: 0.807\n",
      "Accuracy on test set: 0.792\n"
     ]
    },
    {
     "name": "stderr",
     "output_type": "stream",
     "text": [
      "C:\\Users\\Astha\\Anaconda2\\envs\\py36\\lib\\site-packages\\sklearn\\neural_network\\multilayer_perceptron.py:564: ConvergenceWarning: Stochastic Optimizer: Maximum iterations (200) reached and the optimization hasn't converged yet.\n",
      "  % self.max_iter, ConvergenceWarning)\n"
     ]
    }
   ],
   "source": [
    "from sklearn.preprocessing import StandardScaler\n",
    "\n",
    "scaler = StandardScaler()\n",
    "X_train_scaled = scaler.fit_transform(X_train)\n",
    "X_test_scaled = scaler.fit_transform(X_test)\n",
    "\n",
    "mlp = MLPClassifier(random_state=0)\n",
    "mlp.fit(X_train_scaled, y_train)\n",
    "\n",
    "print(\"Accuracy on training set: {:.3f}\".format(\n",
    "    mlp.score(X_train_scaled, y_train)))\n",
    "print(\"Accuracy on test set: {:.3f}\".format(mlp.score(X_test_scaled, y_test)))"
   ]
  },
  {
   "cell_type": "code",
   "execution_count": 10,
   "metadata": {
    "scrolled": true
   },
   "outputs": [
    {
     "name": "stdout",
     "output_type": "stream",
     "text": [
      "Accuracy on training set: 0.910\n",
      "Accuracy on test set: 0.781\n"
     ]
    }
   ],
   "source": [
    "mlp = MLPClassifier(max_iter=1000, random_state=0)\n",
    "mlp.fit(X_train_scaled, y_train)\n",
    "\n",
    "print(\"Accuracy on training set: {:.3f}\".format(\n",
    "    mlp.score(X_train_scaled, y_train)))\n",
    "print(\"Accuracy on test set: {:.3f}\".format(mlp.score(X_test_scaled, y_test)))"
   ]
  },
  {
   "cell_type": "code",
   "execution_count": 11,
   "metadata": {},
   "outputs": [],
   "source": [
    "from sklearn.model_selection import train_test_split\n",
    "\n",
    "X_train, X_test, y_train, y_test = train_test_split(X, y, test_size = 0.2, random_state = 0)"
   ]
  },
  {
   "cell_type": "code",
   "execution_count": 17,
   "metadata": {},
   "outputs": [],
   "source": [
    "from sklearn.preprocessing import StandardScaler\n",
    "\n",
    "sc = StandardScaler()\n",
    "X_train = sc.fit_transform(X_train)\n",
    "X_test = sc.transform(X_test)"
   ]
  },
  {
   "cell_type": "code",
   "execution_count": 18,
   "metadata": {},
   "outputs": [],
   "source": [
    "from keras.models import Sequential\n",
    "from keras.layers import Dense\n",
    "\n",
    "classifier = Sequential() # Initialising the ANN\n",
    "\n",
    "classifier.add(Dense(units = 16, kernel_initializer = 'uniform', activation = 'relu', input_dim = 8))\n",
    "classifier.add(Dense(units = 8, kernel_initializer = 'uniform', activation = 'relu'))\n",
    "classifier.add(Dense(units = 6, kernel_initializer = 'uniform', activation = 'relu'))\n",
    "classifier.add(Dense(units = 1, kernel_initializer = 'uniform', activation = 'sigmoid'))"
   ]
  },
  {
   "cell_type": "code",
   "execution_count": 19,
   "metadata": {},
   "outputs": [],
   "source": [
    "classifier.compile(optimizer = 'rmsprop', loss = 'binary_crossentropy', metrics = ['accuracy'])"
   ]
  },
  {
   "cell_type": "code",
   "execution_count": 20,
   "metadata": {},
   "outputs": [
    {
     "name": "stdout",
     "output_type": "stream",
     "text": [
      "Epoch 1/100\n",
      "614/614 [==============================] - 3s 6ms/step - loss: 0.6456 - acc: 0.6352\n",
      "Epoch 2/100\n",
      "614/614 [==============================] - 1s 2ms/step - loss: 0.5288 - acc: 0.7020\n",
      "Epoch 3/100\n",
      "614/614 [==============================] - 1s 2ms/step - loss: 0.4996 - acc: 0.7541\n",
      "Epoch 4/100\n",
      "614/614 [==============================] - 1s 2ms/step - loss: 0.4996 - acc: 0.7671\n",
      "Epoch 5/100\n",
      "614/614 [==============================] - 1s 2ms/step - loss: 0.4856 - acc: 0.7720\n",
      "Epoch 6/100\n",
      "614/614 [==============================] - 1s 2ms/step - loss: 0.4877 - acc: 0.7769\n",
      "Epoch 7/100\n",
      "614/614 [==============================] - 1s 2ms/step - loss: 0.4780 - acc: 0.7769\n",
      "Epoch 8/100\n",
      "614/614 [==============================] - 1s 2ms/step - loss: 0.4848 - acc: 0.7850\n",
      "Epoch 9/100\n",
      "614/614 [==============================] - 1s 2ms/step - loss: 0.4781 - acc: 0.7818\n",
      "Epoch 10/100\n",
      "614/614 [==============================] - 1s 2ms/step - loss: 0.4708 - acc: 0.7850\n",
      "Epoch 11/100\n",
      "614/614 [==============================] - 1s 2ms/step - loss: 0.4758 - acc: 0.7866\n",
      "Epoch 12/100\n",
      "614/614 [==============================] - 1s 2ms/step - loss: 0.4708 - acc: 0.7883\n",
      "Epoch 13/100\n",
      "614/614 [==============================] - 1s 2ms/step - loss: 0.4729 - acc: 0.7899\n",
      "Epoch 14/100\n",
      "614/614 [==============================] - 1s 2ms/step - loss: 0.4611 - acc: 0.7834\n",
      "Epoch 15/100\n",
      "614/614 [==============================] - 1s 2ms/step - loss: 0.4545 - acc: 0.7834\n",
      "Epoch 16/100\n",
      "614/614 [==============================] - 1s 2ms/step - loss: 0.4613 - acc: 0.7850\n",
      "Epoch 17/100\n",
      "614/614 [==============================] - 2s 2ms/step - loss: 0.4596 - acc: 0.7818\n",
      "Epoch 18/100\n",
      "614/614 [==============================] - 1s 2ms/step - loss: 0.4509 - acc: 0.7818\n",
      "Epoch 19/100\n",
      "614/614 [==============================] - 1s 2ms/step - loss: 0.4591 - acc: 0.7769A: 1s - loss:\n",
      "Epoch 20/100\n",
      "614/614 [==============================] - 1s 2ms/step - loss: 0.4507 - acc: 0.7883\n",
      "Epoch 21/100\n",
      "614/614 [==============================] - 1s 2ms/step - loss: 0.4552 - acc: 0.7801\n",
      "Epoch 22/100\n",
      "614/614 [==============================] - 2s 3ms/step - loss: 0.4580 - acc: 0.7785\n",
      "Epoch 23/100\n",
      "614/614 [==============================] - 1s 2ms/step - loss: 0.4558 - acc: 0.7883\n",
      "Epoch 24/100\n",
      "614/614 [==============================] - 1s 2ms/step - loss: 0.4567 - acc: 0.7883\n",
      "Epoch 25/100\n",
      "614/614 [==============================] - 1s 2ms/step - loss: 0.4450 - acc: 0.7948\n",
      "Epoch 26/100\n",
      "614/614 [==============================] - 1s 2ms/step - loss: 0.4667 - acc: 0.7932\n",
      "Epoch 27/100\n",
      "614/614 [==============================] - 1s 2ms/step - loss: 0.4585 - acc: 0.7932\n",
      "Epoch 28/100\n",
      "614/614 [==============================] - 1s 2ms/step - loss: 0.4565 - acc: 0.7915\n",
      "Epoch 29/100\n",
      "614/614 [==============================] - 1s 2ms/step - loss: 0.4592 - acc: 0.7980\n",
      "Epoch 30/100\n",
      "614/614 [==============================] - 1s 2ms/step - loss: 0.4534 - acc: 0.7997\n",
      "Epoch 31/100\n",
      "614/614 [==============================] - 1s 2ms/step - loss: 0.4563 - acc: 0.7964\n",
      "Epoch 32/100\n",
      "614/614 [==============================] - 1s 2ms/step - loss: 0.4522 - acc: 0.7932\n",
      "Epoch 33/100\n",
      "614/614 [==============================] - 1s 2ms/step - loss: 0.4640 - acc: 0.7980\n",
      "Epoch 34/100\n",
      "614/614 [==============================] - 1s 2ms/step - loss: 0.4517 - acc: 0.8029\n",
      "Epoch 35/100\n",
      "614/614 [==============================] - 1s 2ms/step - loss: 0.4505 - acc: 0.8046\n",
      "Epoch 36/100\n",
      "614/614 [==============================] - 1s 2ms/step - loss: 0.4495 - acc: 0.7997\n",
      "Epoch 37/100\n",
      "614/614 [==============================] - 1s 2ms/step - loss: 0.4446 - acc: 0.8078\n",
      "Epoch 38/100\n",
      "614/614 [==============================] - 1s 2ms/step - loss: 0.4533 - acc: 0.7997\n",
      "Epoch 39/100\n",
      "614/614 [==============================] - 1s 2ms/step - loss: 0.4595 - acc: 0.8094\n",
      "Epoch 40/100\n",
      "614/614 [==============================] - 1s 2ms/step - loss: 0.4462 - acc: 0.7980\n",
      "Epoch 41/100\n",
      "614/614 [==============================] - 1s 2ms/step - loss: 0.4502 - acc: 0.8094\n",
      "Epoch 42/100\n",
      "614/614 [==============================] - 1s 2ms/step - loss: 0.4553 - acc: 0.8029\n",
      "Epoch 43/100\n",
      "614/614 [==============================] - 1s 2ms/step - loss: 0.4545 - acc: 0.8143\n",
      "Epoch 44/100\n",
      "614/614 [==============================] - 1s 2ms/step - loss: 0.4626 - acc: 0.8046\n",
      "Epoch 45/100\n",
      "614/614 [==============================] - 1s 2ms/step - loss: 0.4539 - acc: 0.8111\n",
      "Epoch 46/100\n",
      "614/614 [==============================] - 1s 2ms/step - loss: 0.4519 - acc: 0.8094\n",
      "Epoch 47/100\n",
      "614/614 [==============================] - 1s 2ms/step - loss: 0.4591 - acc: 0.8094\n",
      "Epoch 48/100\n",
      "614/614 [==============================] - 1s 2ms/step - loss: 0.4602 - acc: 0.8094\n",
      "Epoch 49/100\n",
      "614/614 [==============================] - 1s 2ms/step - loss: 0.4626 - acc: 0.8094\n",
      "Epoch 50/100\n",
      "614/614 [==============================] - 1s 2ms/step - loss: 0.4577 - acc: 0.8208\n",
      "Epoch 51/100\n",
      "614/614 [==============================] - 1s 2ms/step - loss: 0.4549 - acc: 0.8111\n",
      "Epoch 52/100\n",
      "614/614 [==============================] - 1s 2ms/step - loss: 0.4528 - acc: 0.8078\n",
      "Epoch 53/100\n",
      "614/614 [==============================] - 1s 2ms/step - loss: 0.4486 - acc: 0.8013\n",
      "Epoch 54/100\n",
      "614/614 [==============================] - 1s 2ms/step - loss: 0.4571 - acc: 0.8062\n",
      "Epoch 55/100\n",
      "614/614 [==============================] - 1s 2ms/step - loss: 0.4503 - acc: 0.8094\n",
      "Epoch 56/100\n",
      "614/614 [==============================] - 1s 2ms/step - loss: 0.4508 - acc: 0.8029\n",
      "Epoch 57/100\n",
      "614/614 [==============================] - 1s 2ms/step - loss: 0.4446 - acc: 0.8094\n",
      "Epoch 58/100\n",
      "614/614 [==============================] - 1s 2ms/step - loss: 0.4595 - acc: 0.8127\n",
      "Epoch 59/100\n",
      "614/614 [==============================] - 1s 2ms/step - loss: 0.4620 - acc: 0.8127\n",
      "Epoch 60/100\n",
      "614/614 [==============================] - 1s 2ms/step - loss: 0.4604 - acc: 0.8208\n",
      "Epoch 61/100\n",
      "614/614 [==============================] - 1s 2ms/step - loss: 0.4556 - acc: 0.8208\n",
      "Epoch 62/100\n",
      "614/614 [==============================] - 1s 2ms/step - loss: 0.4520 - acc: 0.8078\n",
      "Epoch 63/100\n",
      "614/614 [==============================] - 1s 2ms/step - loss: 0.4558 - acc: 0.8046\n",
      "Epoch 64/100\n",
      "614/614 [==============================] - 1s 2ms/step - loss: 0.4516 - acc: 0.8160\n",
      "Epoch 65/100\n",
      "614/614 [==============================] - 1s 2ms/step - loss: 0.4589 - acc: 0.7997\n",
      "Epoch 66/100\n",
      "614/614 [==============================] - 1s 2ms/step - loss: 0.4549 - acc: 0.8127\n",
      "Epoch 67/100\n",
      "614/614 [==============================] - 1s 2ms/step - loss: 0.4464 - acc: 0.8094\n",
      "Epoch 68/100\n",
      "614/614 [==============================] - 1s 2ms/step - loss: 0.4698 - acc: 0.8046\n",
      "Epoch 69/100\n",
      "614/614 [==============================] - 1s 2ms/step - loss: 0.4604 - acc: 0.8208\n",
      "Epoch 70/100\n",
      "614/614 [==============================] - 1s 2ms/step - loss: 0.4535 - acc: 0.8094\n",
      "Epoch 71/100\n",
      "614/614 [==============================] - 1s 2ms/step - loss: 0.4580 - acc: 0.8208\n",
      "Epoch 72/100\n",
      "614/614 [==============================] - 1s 2ms/step - loss: 0.4556 - acc: 0.8225\n",
      "Epoch 73/100\n",
      "614/614 [==============================] - 1s 2ms/step - loss: 0.4647 - acc: 0.8111\n",
      "Epoch 74/100\n",
      "614/614 [==============================] - 1s 2ms/step - loss: 0.4478 - acc: 0.8208\n",
      "Epoch 75/100\n",
      "614/614 [==============================] - 1s 2ms/step - loss: 0.4711 - acc: 0.8111\n",
      "Epoch 76/100\n",
      "614/614 [==============================] - 1s 2ms/step - loss: 0.4551 - acc: 0.8078\n",
      "Epoch 77/100\n",
      "614/614 [==============================] - 1s 2ms/step - loss: 0.4506 - acc: 0.8111\n",
      "Epoch 78/100\n",
      "614/614 [==============================] - 1s 2ms/step - loss: 0.4542 - acc: 0.8013\n",
      "Epoch 79/100\n",
      "614/614 [==============================] - 2s 3ms/step - loss: 0.4571 - acc: 0.8078\n",
      "Epoch 80/100\n",
      "614/614 [==============================] - 1s 2ms/step - loss: 0.4570 - acc: 0.8192\n",
      "Epoch 81/100\n",
      "614/614 [==============================] - 1s 2ms/step - loss: 0.4581 - acc: 0.8160\n",
      "Epoch 82/100\n",
      "614/614 [==============================] - 1s 2ms/step - loss: 0.4536 - acc: 0.8208\n",
      "Epoch 83/100\n",
      "614/614 [==============================] - 1s 2ms/step - loss: 0.4647 - acc: 0.8127\n",
      "Epoch 84/100\n",
      "614/614 [==============================] - 1s 2ms/step - loss: 0.4658 - acc: 0.8192\n",
      "Epoch 85/100\n",
      "614/614 [==============================] - 1s 2ms/step - loss: 0.4455 - acc: 0.8013\n",
      "Epoch 86/100\n",
      "614/614 [==============================] - 1s 2ms/step - loss: 0.4575 - acc: 0.8192\n",
      "Epoch 87/100\n",
      "614/614 [==============================] - 1s 2ms/step - loss: 0.4572 - acc: 0.8127\n",
      "Epoch 88/100\n",
      "614/614 [==============================] - 1s 2ms/step - loss: 0.4605 - acc: 0.8208\n",
      "Epoch 89/100\n",
      "614/614 [==============================] - 1s 2ms/step - loss: 0.4477 - acc: 0.8062\n",
      "Epoch 90/100\n",
      "614/614 [==============================] - 1s 2ms/step - loss: 0.4713 - acc: 0.8176\n",
      "Epoch 91/100\n",
      "614/614 [==============================] - 1s 2ms/step - loss: 0.4523 - acc: 0.8046\n",
      "Epoch 92/100\n",
      "614/614 [==============================] - 1s 2ms/step - loss: 0.4638 - acc: 0.8127\n",
      "Epoch 93/100\n",
      "614/614 [==============================] - 1s 2ms/step - loss: 0.4519 - acc: 0.8078\n",
      "Epoch 94/100\n",
      "614/614 [==============================] - 1s 2ms/step - loss: 0.4435 - acc: 0.8192\n",
      "Epoch 95/100\n",
      "614/614 [==============================] - 1s 2ms/step - loss: 0.4546 - acc: 0.8029\n",
      "Epoch 96/100\n",
      "614/614 [==============================] - 1s 2ms/step - loss: 0.4442 - acc: 0.8094\n",
      "Epoch 97/100\n",
      "614/614 [==============================] - 1s 2ms/step - loss: 0.4569 - acc: 0.7980\n",
      "Epoch 98/100\n",
      "614/614 [==============================] - 1s 2ms/step - loss: 0.4531 - acc: 0.8078\n",
      "Epoch 99/100\n",
      "614/614 [==============================] - 1s 2ms/step - loss: 0.4550 - acc: 0.8062\n",
      "Epoch 100/100\n",
      "614/614 [==============================] - 1s 2ms/step - loss: 0.4826 - acc: 0.8029\n"
     ]
    },
    {
     "data": {
      "text/plain": [
       "<keras.callbacks.History at 0x23c39347470>"
      ]
     },
     "execution_count": 20,
     "metadata": {},
     "output_type": "execute_result"
    }
   ],
   "source": [
    "classifier.fit(X_train, y_train, batch_size = 1, epochs = 100)"
   ]
  },
  {
   "cell_type": "code",
   "execution_count": 25,
   "metadata": {},
   "outputs": [],
   "source": [
    "from keras.models import load_model\n",
    "classifier.save('diabetes_neural_model.h5')"
   ]
  },
  {
   "cell_type": "code",
   "execution_count": 26,
   "metadata": {},
   "outputs": [],
   "source": [
    "y_pred = classifier.predict(X_test)\n",
    "y_pred = [ 1 if y>=0.5 else 0 for y in y_pred ]"
   ]
  },
  {
   "cell_type": "code",
   "execution_count": 27,
   "metadata": {},
   "outputs": [
    {
     "name": "stdout",
     "output_type": "stream",
     "text": [
      "[[83 24]\n",
      " [ 8 39]]\n",
      "Accuracy: 79.22077922077922%\n"
     ]
    }
   ],
   "source": [
    "from sklearn.metrics import confusion_matrix\n",
    "cm = confusion_matrix(y_test, y_pred)\n",
    "print(cm)\n",
    "\n",
    "accuracy = (cm[0][0]+cm[1][1])/(cm[0][0]+cm[0][1]+cm[1][0]+cm[1][1])\n",
    "print(\"Accuracy: \"+ str(accuracy*100)+\"%\")"
   ]
  },
  {
   "cell_type": "code",
   "execution_count": 12,
   "metadata": {},
   "outputs": [
    {
     "name": "stdout",
     "output_type": "stream",
     "text": [
      "Index(['Pregnancies', 'Glucose', 'BloodPressure', 'Insulin', 'BMI',\n",
      "       'DiabetesPedigreeFunction', 'Age', 'Outcome'],\n",
      "      dtype='object')\n"
     ]
    }
   ],
   "source": [
    "diabetes = pd.read_csv('pima_diabetes_cleaned.csv')\n",
    "diabetes = diabetes.drop([\"SkinThickness\"], axis=1)\n",
    "feature_names = ['Pregnancies',\n",
    "                 'Glucose',\n",
    "                 'BloodPressure',\n",
    "                 'Insulin',\n",
    "                 'BMI',\n",
    "                 'DiabetesPedigreeFunction',\n",
    "                 'Age']\n",
    "\n",
    "X = diabetes[feature_names]\n",
    "y = diabetes.Outcome\n",
    "print(diabetes.columns)"
   ]
  },
  {
   "cell_type": "code",
   "execution_count": 13,
   "metadata": {},
   "outputs": [
    {
     "name": "stdout",
     "output_type": "stream",
     "text": [
      "Index(['Pregnancies', 'Glucose', 'BloodPressure', 'Insulin', 'BMI',\n",
      "       'DiabetesPedigreeFunction', 'Age', 'Outcome'],\n",
      "      dtype='object')\n"
     ]
    }
   ],
   "source": [
    "print(diabetes.columns)"
   ]
  },
  {
   "cell_type": "code",
   "execution_count": 14,
   "metadata": {},
   "outputs": [],
   "source": [
    "from sklearn.model_selection import train_test_split\n",
    "\n",
    "X_train, X_test, y_train, y_test = train_test_split(diabetes.loc[:, diabetes.columns != 'Outcome'], diabetes['Outcome'], stratify=diabetes['Outcome'], random_state=66)"
   ]
  },
  {
   "cell_type": "code",
   "execution_count": 15,
   "metadata": {},
   "outputs": [
    {
     "name": "stdout",
     "output_type": "stream",
     "text": [
      "Accuracy on training set: 0.50\n",
      "Accuracy on test set: 0.52\n"
     ]
    }
   ],
   "source": [
    "from sklearn.neural_network import MLPClassifier\n",
    "\n",
    "mlp = MLPClassifier(random_state=42)\n",
    "mlp.fit(X_train, y_train)\n",
    "\n",
    "print(\"Accuracy on training set: {:.2f}\".format(mlp.score(X_train, y_train)))\n",
    "print(\"Accuracy on test set: {:.2f}\".format(mlp.score(X_test, y_test)))"
   ]
  },
  {
   "cell_type": "code",
   "execution_count": 16,
   "metadata": {},
   "outputs": [
    {
     "name": "stdout",
     "output_type": "stream",
     "text": [
      "Accuracy on training set: 0.809\n",
      "Accuracy on test set: 0.802\n"
     ]
    },
    {
     "name": "stderr",
     "output_type": "stream",
     "text": [
      "C:\\Users\\Astha\\Anaconda2\\envs\\py36\\lib\\site-packages\\sklearn\\neural_network\\multilayer_perceptron.py:564: ConvergenceWarning: Stochastic Optimizer: Maximum iterations (200) reached and the optimization hasn't converged yet.\n",
      "  % self.max_iter, ConvergenceWarning)\n"
     ]
    }
   ],
   "source": [
    "from sklearn.preprocessing import StandardScaler\n",
    "\n",
    "scaler = StandardScaler()\n",
    "X_train_scaled = scaler.fit_transform(X_train)\n",
    "X_test_scaled = scaler.fit_transform(X_test)\n",
    "\n",
    "mlp = MLPClassifier(random_state=0)\n",
    "mlp.fit(X_train_scaled, y_train)\n",
    "\n",
    "print(\"Accuracy on training set: {:.3f}\".format(\n",
    "    mlp.score(X_train_scaled, y_train)))\n",
    "print(\"Accuracy on test set: {:.3f}\".format(mlp.score(X_test_scaled, y_test)))"
   ]
  },
  {
   "cell_type": "code",
   "execution_count": 17,
   "metadata": {},
   "outputs": [
    {
     "name": "stdout",
     "output_type": "stream",
     "text": [
      "Accuracy on training set: 0.875\n",
      "Accuracy on test set: 0.797\n"
     ]
    }
   ],
   "source": [
    "mlp = MLPClassifier(max_iter=1000, random_state=0)\n",
    "mlp.fit(X_train_scaled, y_train)\n",
    "\n",
    "print(\"Accuracy on training set: {:.3f}\".format(\n",
    "    mlp.score(X_train_scaled, y_train)))\n",
    "print(\"Accuracy on test set: {:.3f}\".format(mlp.score(X_test_scaled, y_test)))"
   ]
  },
  {
   "cell_type": "code",
   "execution_count": 47,
   "metadata": {},
   "outputs": [],
   "source": [
    "from sklearn.model_selection import train_test_split\n",
    "\n",
    "X_train, X_test, y_train, y_test = train_test_split(X, y, test_size = 0.2, random_state = 0)"
   ]
  },
  {
   "cell_type": "code",
   "execution_count": 48,
   "metadata": {},
   "outputs": [],
   "source": [
    "from sklearn.preprocessing import StandardScaler\n",
    "\n",
    "sc = StandardScaler()\n",
    "X_train = sc.fit_transform(X_train)\n",
    "X_test = sc.transform(X_test)"
   ]
  },
  {
   "cell_type": "code",
   "execution_count": 49,
   "metadata": {},
   "outputs": [],
   "source": [
    "from keras.models import Sequential\n",
    "from keras.layers import Dense\n",
    "\n",
    "classifier = Sequential() # Initialising the ANN\n",
    "\n",
    "classifier.add(Dense(units = 16, kernel_initializer = 'uniform', activation = 'relu', input_dim = 7))\n",
    "classifier.add(Dense(units = 8, kernel_initializer = 'uniform', activation = 'relu'))\n",
    "classifier.add(Dense(units = 6, kernel_initializer = 'uniform', activation = 'sigmoid'))\n",
    "classifier.add(Dense(units = 1, kernel_initializer = 'uniform', activation = 'sigmoid'))"
   ]
  },
  {
   "cell_type": "code",
   "execution_count": 50,
   "metadata": {},
   "outputs": [
    {
     "name": "stdout",
     "output_type": "stream",
     "text": [
      "Epoch 1/100\n",
      "614/614 [==============================] - 2s 4ms/step - loss: 0.6647 - acc: 0.6336\n",
      "Epoch 2/100\n",
      "614/614 [==============================] - 2s 3ms/step - loss: 0.6063 - acc: 0.6401\n",
      "Epoch 3/100\n",
      "614/614 [==============================] - 1s 2ms/step - loss: 0.5566 - acc: 0.6401\n",
      "Epoch 4/100\n",
      "614/614 [==============================] - 1s 2ms/step - loss: 0.5326 - acc: 0.6857\n",
      "Epoch 5/100\n",
      "614/614 [==============================] - 1s 2ms/step - loss: 0.5243 - acc: 0.7492\n",
      "Epoch 6/100\n",
      "614/614 [==============================] - 1s 2ms/step - loss: 0.5164 - acc: 0.7573\n",
      "Epoch 7/100\n",
      "614/614 [==============================] - 2s 3ms/step - loss: 0.5109 - acc: 0.7606\n",
      "Epoch 8/100\n",
      "614/614 [==============================] - 2s 3ms/step - loss: 0.5072 - acc: 0.7638\n",
      "Epoch 9/100\n",
      "614/614 [==============================] - ETA: 0s - loss: 0.5052 - acc: 0.774 - 2s 3ms/step - loss: 0.5078 - acc: 0.7720\n",
      "Epoch 10/100\n",
      "614/614 [==============================] - 1s 2ms/step - loss: 0.5010 - acc: 0.7720\n",
      "Epoch 11/100\n",
      "614/614 [==============================] - 2s 2ms/step - loss: 0.4995 - acc: 0.7704\n",
      "Epoch 12/100\n",
      "614/614 [==============================] - 2s 3ms/step - loss: 0.4946 - acc: 0.7769\n",
      "Epoch 13/100\n",
      "614/614 [==============================] - 2s 3ms/step - loss: 0.4898 - acc: 0.7752\n",
      "Epoch 14/100\n",
      "614/614 [==============================] - 2s 3ms/step - loss: 0.4864 - acc: 0.7834\n",
      "Epoch 15/100\n",
      "614/614 [==============================] - 2s 3ms/step - loss: 0.4839 - acc: 0.7752\n",
      "Epoch 16/100\n",
      "614/614 [==============================] - 2s 3ms/step - loss: 0.4824 - acc: 0.7801\n",
      "Epoch 17/100\n",
      "614/614 [==============================] - 2s 3ms/step - loss: 0.4771 - acc: 0.7850\n",
      "Epoch 18/100\n",
      "614/614 [==============================] - 1s 2ms/step - loss: 0.4721 - acc: 0.7801\n",
      "Epoch 19/100\n",
      "614/614 [==============================] - 2s 3ms/step - loss: 0.4694 - acc: 0.7866\n",
      "Epoch 20/100\n",
      "614/614 [==============================] - 2s 3ms/step - loss: 0.4626 - acc: 0.7883\n",
      "Epoch 21/100\n",
      "614/614 [==============================] - 2s 3ms/step - loss: 0.4617 - acc: 0.7801A: 2s\n",
      "Epoch 22/100\n",
      "614/614 [==============================] - 2s 3ms/step - loss: 0.4635 - acc: 0.7850\n",
      "Epoch 23/100\n",
      "614/614 [==============================] - 2s 3ms/step - loss: 0.4572 - acc: 0.7801\n",
      "Epoch 24/100\n",
      "614/614 [==============================] - 2s 3ms/step - loss: 0.4508 - acc: 0.7899\n",
      "Epoch 25/100\n",
      "614/614 [==============================] - 2s 3ms/step - loss: 0.4506 - acc: 0.7801\n",
      "Epoch 26/100\n",
      "614/614 [==============================] - 2s 3ms/step - loss: 0.4501 - acc: 0.7834\n",
      "Epoch 27/100\n",
      "614/614 [==============================] - 2s 4ms/step - loss: 0.4456 - acc: 0.7883\n",
      "Epoch 28/100\n",
      "614/614 [==============================] - 2s 3ms/step - loss: 0.4466 - acc: 0.7899\n",
      "Epoch 29/100\n",
      "614/614 [==============================] - 2s 3ms/step - loss: 0.4456 - acc: 0.7883\n",
      "Epoch 30/100\n",
      "614/614 [==============================] - 2s 3ms/step - loss: 0.4444 - acc: 0.7834\n",
      "Epoch 31/100\n",
      "614/614 [==============================] - 2s 3ms/step - loss: 0.4439 - acc: 0.7850\n",
      "Epoch 32/100\n",
      "614/614 [==============================] - 2s 3ms/step - loss: 0.4457 - acc: 0.7915\n",
      "Epoch 33/100\n",
      "614/614 [==============================] - 2s 3ms/step - loss: 0.4502 - acc: 0.7866\n",
      "Epoch 34/100\n",
      "614/614 [==============================] - 2s 3ms/step - loss: 0.4453 - acc: 0.7883A: 2s \n",
      "Epoch 35/100\n",
      "614/614 [==============================] - 2s 3ms/step - loss: 0.4457 - acc: 0.7980\n",
      "Epoch 36/100\n",
      "614/614 [==============================] - 2s 3ms/step - loss: 0.4448 - acc: 0.7915\n",
      "Epoch 37/100\n",
      "614/614 [==============================] - 2s 3ms/step - loss: 0.4402 - acc: 0.7948\n",
      "Epoch 38/100\n",
      "614/614 [==============================] - 2s 3ms/step - loss: 0.4431 - acc: 0.7915\n",
      "Epoch 39/100\n",
      "614/614 [==============================] - 2s 2ms/step - loss: 0.4458 - acc: 0.7883\n",
      "Epoch 40/100\n",
      "614/614 [==============================] - 2s 2ms/step - loss: 0.4404 - acc: 0.8013\n",
      "Epoch 41/100\n",
      "614/614 [==============================] - 1s 2ms/step - loss: 0.4378 - acc: 0.7932\n",
      "Epoch 42/100\n",
      "614/614 [==============================] - 1s 2ms/step - loss: 0.4463 - acc: 0.8029\n",
      "Epoch 43/100\n",
      "614/614 [==============================] - 1s 2ms/step - loss: 0.4431 - acc: 0.7899\n",
      "Epoch 44/100\n",
      "614/614 [==============================] - 1s 2ms/step - loss: 0.4398 - acc: 0.8029\n",
      "Epoch 45/100\n",
      "614/614 [==============================] - 2s 3ms/step - loss: 0.4382 - acc: 0.7915\n",
      "Epoch 46/100\n",
      "614/614 [==============================] - 2s 2ms/step - loss: 0.4390 - acc: 0.8029\n",
      "Epoch 47/100\n",
      "614/614 [==============================] - 2s 3ms/step - loss: 0.4523 - acc: 0.8046\n",
      "Epoch 48/100\n",
      "614/614 [==============================] - 2s 3ms/step - loss: 0.4411 - acc: 0.7948\n",
      "Epoch 49/100\n",
      "614/614 [==============================] - 2s 3ms/step - loss: 0.4416 - acc: 0.7964\n",
      "Epoch 50/100\n",
      "614/614 [==============================] - 2s 3ms/step - loss: 0.4379 - acc: 0.8127\n",
      "Epoch 51/100\n",
      "614/614 [==============================] - 2s 3ms/step - loss: 0.4387 - acc: 0.8013\n",
      "Epoch 52/100\n",
      "614/614 [==============================] - 1s 2ms/step - loss: 0.4409 - acc: 0.8078\n",
      "Epoch 53/100\n",
      "614/614 [==============================] - 2s 3ms/step - loss: 0.4409 - acc: 0.8046\n",
      "Epoch 54/100\n",
      "614/614 [==============================] - 1s 2ms/step - loss: 0.4390 - acc: 0.8029\n",
      "Epoch 55/100\n",
      "614/614 [==============================] - 2s 3ms/step - loss: 0.4399 - acc: 0.8078\n",
      "Epoch 56/100\n",
      "614/614 [==============================] - 2s 2ms/step - loss: 0.4403 - acc: 0.8111\n",
      "Epoch 57/100\n",
      "614/614 [==============================] - 2s 3ms/step - loss: 0.4442 - acc: 0.8046\n",
      "Epoch 58/100\n",
      "614/614 [==============================] - 1s 2ms/step - loss: 0.4390 - acc: 0.8143\n",
      "Epoch 59/100\n",
      "614/614 [==============================] - 1s 2ms/step - loss: 0.4378 - acc: 0.8143\n",
      "Epoch 60/100\n",
      "614/614 [==============================] - 2s 3ms/step - loss: 0.4361 - acc: 0.8094\n",
      "Epoch 61/100\n",
      "614/614 [==============================] - 1s 2ms/step - loss: 0.4369 - acc: 0.8094\n",
      "Epoch 62/100\n",
      "614/614 [==============================] - 1s 2ms/step - loss: 0.4395 - acc: 0.8046A: 1s - l\n",
      "Epoch 63/100\n",
      "614/614 [==============================] - 2s 3ms/step - loss: 0.4394 - acc: 0.8094\n",
      "Epoch 64/100\n",
      "614/614 [==============================] - 2s 3ms/step - loss: 0.4308 - acc: 0.8111\n",
      "Epoch 65/100\n",
      "614/614 [==============================] - 1s 2ms/step - loss: 0.4369 - acc: 0.8225\n",
      "Epoch 66/100\n",
      "614/614 [==============================] - 1s 2ms/step - loss: 0.4352 - acc: 0.8257\n",
      "Epoch 67/100\n",
      "614/614 [==============================] - 1s 2ms/step - loss: 0.4381 - acc: 0.8143\n",
      "Epoch 68/100\n",
      "614/614 [==============================] - 1s 2ms/step - loss: 0.4367 - acc: 0.8143\n",
      "Epoch 69/100\n",
      "614/614 [==============================] - 1s 2ms/step - loss: 0.4402 - acc: 0.8111\n",
      "Epoch 70/100\n",
      "614/614 [==============================] - 1s 2ms/step - loss: 0.4336 - acc: 0.8192\n",
      "Epoch 71/100\n",
      "614/614 [==============================] - 2s 3ms/step - loss: 0.4415 - acc: 0.8176\n",
      "Epoch 72/100\n",
      "614/614 [==============================] - 2s 3ms/step - loss: 0.4313 - acc: 0.8127\n",
      "Epoch 73/100\n",
      "614/614 [==============================] - 1s 2ms/step - loss: 0.4329 - acc: 0.8176\n",
      "Epoch 74/100\n",
      "614/614 [==============================] - 1s 2ms/step - loss: 0.4422 - acc: 0.8143\n",
      "Epoch 75/100\n",
      "614/614 [==============================] - 1s 2ms/step - loss: 0.4281 - acc: 0.8192\n",
      "Epoch 76/100\n",
      "614/614 [==============================] - 1s 2ms/step - loss: 0.4379 - acc: 0.8160A: 1s - l\n",
      "Epoch 77/100\n",
      "614/614 [==============================] - 1s 2ms/step - loss: 0.4317 - acc: 0.8241\n",
      "Epoch 78/100\n",
      "614/614 [==============================] - 1s 2ms/step - loss: 0.4336 - acc: 0.8176\n",
      "Epoch 79/100\n",
      "614/614 [==============================] - 1s 2ms/step - loss: 0.4302 - acc: 0.8192\n",
      "Epoch 80/100\n",
      "614/614 [==============================] - 1s 2ms/step - loss: 0.4343 - acc: 0.8192\n",
      "Epoch 81/100\n",
      "614/614 [==============================] - 1s 2ms/step - loss: 0.4287 - acc: 0.8274\n",
      "Epoch 82/100\n",
      "614/614 [==============================] - 1s 2ms/step - loss: 0.4273 - acc: 0.8274\n",
      "Epoch 83/100\n",
      "614/614 [==============================] - 1s 2ms/step - loss: 0.4327 - acc: 0.8176\n",
      "Epoch 84/100\n",
      "614/614 [==============================] - 1s 2ms/step - loss: 0.4346 - acc: 0.8257\n",
      "Epoch 85/100\n",
      "614/614 [==============================] - ETA: 0s - loss: 0.4295 - acc: 0.823 - 1s 2ms/step - loss: 0.4304 - acc: 0.8241\n",
      "Epoch 86/100\n",
      "614/614 [==============================] - 1s 2ms/step - loss: 0.4329 - acc: 0.8208\n",
      "Epoch 87/100\n",
      "614/614 [==============================] - 1s 2ms/step - loss: 0.4293 - acc: 0.8257\n",
      "Epoch 88/100\n",
      "614/614 [==============================] - 1s 2ms/step - loss: 0.4244 - acc: 0.8225\n",
      "Epoch 89/100\n",
      "614/614 [==============================] - 1s 2ms/step - loss: 0.4295 - acc: 0.8225\n",
      "Epoch 90/100\n",
      "614/614 [==============================] - 1s 2ms/step - loss: 0.4295 - acc: 0.8290\n",
      "Epoch 91/100\n",
      "614/614 [==============================] - 1s 2ms/step - loss: 0.4317 - acc: 0.8192\n",
      "Epoch 92/100\n",
      "614/614 [==============================] - 1s 2ms/step - loss: 0.4271 - acc: 0.8339\n",
      "Epoch 93/100\n",
      "614/614 [==============================] - 1s 2ms/step - loss: 0.4318 - acc: 0.8208\n",
      "Epoch 94/100\n",
      "614/614 [==============================] - 1s 2ms/step - loss: 0.4299 - acc: 0.8306\n",
      "Epoch 95/100\n",
      "614/614 [==============================] - 1s 2ms/step - loss: 0.4266 - acc: 0.8290\n",
      "Epoch 96/100\n",
      "614/614 [==============================] - 1s 2ms/step - loss: 0.4327 - acc: 0.8290\n",
      "Epoch 97/100\n",
      "614/614 [==============================] - 1s 2ms/step - loss: 0.4250 - acc: 0.8420\n",
      "Epoch 98/100\n",
      "614/614 [==============================] - 2s 2ms/step - loss: 0.4316 - acc: 0.8257\n",
      "Epoch 99/100\n",
      "614/614 [==============================] - 2s 3ms/step - loss: 0.4247 - acc: 0.8322\n",
      "Epoch 100/100\n",
      "614/614 [==============================] - 1s 2ms/step - loss: 0.4245 - acc: 0.8355\n"
     ]
    },
    {
     "data": {
      "text/plain": [
       "<keras.callbacks.History at 0x24f98067f98>"
      ]
     },
     "execution_count": 50,
     "metadata": {},
     "output_type": "execute_result"
    }
   ],
   "source": [
    "classifier.compile(optimizer = 'rmsprop', loss = 'binary_crossentropy', metrics = ['accuracy'])\n",
    "\n",
    "classifier.fit(X_train, y_train, batch_size = 1, epochs = 100)"
   ]
  },
  {
   "cell_type": "code",
   "execution_count": 51,
   "metadata": {},
   "outputs": [
    {
     "name": "stdout",
     "output_type": "stream",
     "text": [
      "[[93 14]\n",
      " [13 34]]\n",
      "Accuracy: 82.46753246753246%\n"
     ]
    }
   ],
   "source": [
    "from keras.models import load_model\n",
    "classifier.save('diabetes_neural_model.h5')\n",
    "\n",
    "y_pred = classifier.predict(X_test)\n",
    "y_pred = [ 1 if y>=0.5 else 0 for y in y_pred ]\n",
    "\n",
    "from sklearn.metrics import confusion_matrix\n",
    "cm = confusion_matrix(y_test, y_pred)\n",
    "print(cm)\n",
    "\n",
    "accuracy = (cm[0][0]+cm[1][1])/(cm[0][0]+cm[0][1]+cm[1][0]+cm[1][1])\n",
    "print(\"Accuracy: \"+ str(accuracy*100)+\"%\")"
   ]
  },
  {
   "cell_type": "code",
   "execution_count": null,
   "metadata": {},
   "outputs": [],
   "source": []
  },
  {
   "cell_type": "code",
   "execution_count": null,
   "metadata": {},
   "outputs": [],
   "source": []
  },
  {
   "cell_type": "code",
   "execution_count": null,
   "metadata": {},
   "outputs": [],
   "source": []
  }
 ],
 "metadata": {
  "kernelspec": {
   "display_name": "Python 3",
   "language": "python",
   "name": "python3"
  },
  "language_info": {
   "codemirror_mode": {
    "name": "ipython",
    "version": 3
   },
   "file_extension": ".py",
   "mimetype": "text/x-python",
   "name": "python",
   "nbconvert_exporter": "python",
   "pygments_lexer": "ipython3",
   "version": "3.6.6"
  }
 },
 "nbformat": 4,
 "nbformat_minor": 2
}
